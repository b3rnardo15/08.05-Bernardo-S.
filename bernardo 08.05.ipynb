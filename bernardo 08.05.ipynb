{
 "cells": [
  {
   "cell_type": "code",
   "execution_count": 7,
   "metadata": {},
   "outputs": [
    {
     "name": "stdout",
     "output_type": "stream",
     "text": [
      "O produto é:  faca\n",
      "O valor é:  300.0\n",
      "O produto é:  karambit\n",
      "O valor é:  320.0\n",
      "O produto é:  salmão\n",
      "O valor é:  45.0\n",
      "O produto é:  camisa sport\n",
      "O valor é:  325.0\n"
     ]
    }
   ],
   "source": [
    "for produto in range (0,4):\n",
    "    p = str(input(\"Digite o nome do produto: \"))\n",
    "    v = float(input(\"Digite o valor do produto \"))\n",
    "\n",
    "    print('O produto é: ',p)\n",
    "    print('O valor é: ',v)\n",
    "\n",
    "\n"
   ]
  },
  {
   "cell_type": "code",
   "execution_count": 4,
   "metadata": {},
   "outputs": [
    {
     "name": "stdout",
     "output_type": "stream",
     "text": [
      "Estamos no elemento  1\n",
      "Estamos no elemento  2\n",
      "Estamos no elemento  3\n",
      "Estamos no elemento  4\n",
      "Estamos no elemento  5\n",
      "Estamos no elemento  6\n"
     ]
    }
   ],
   "source": [
    "for elemento in [1,2,3,4,5,6]:\n",
    "    print('Estamos no elemento ', elemento)"
   ]
  },
  {
   "cell_type": "code",
   "execution_count": 8,
   "metadata": {},
   "outputs": [
    {
     "name": "stdout",
     "output_type": "stream",
     "text": [
      "Estamos no elemento  B\n",
      "Estamos no elemento  e\n",
      "Estamos no elemento  r\n",
      "Estamos no elemento  n\n",
      "Estamos no elemento  a\n",
      "Estamos no elemento  r\n",
      "Estamos no elemento  d\n",
      "Estamos no elemento  o\n"
     ]
    }
   ],
   "source": [
    "for elemento in 'Bernardo':\n",
    "    print('Estamos no elemento ', elemento)"
   ]
  },
  {
   "cell_type": "code",
   "execution_count": 7,
   "metadata": {},
   "outputs": [
    {
     "name": "stdout",
     "output_type": "stream",
     "text": [
      "estamos no elemento 0\n",
      "estamos no elemento 1\n",
      "estamos no elemento 2\n",
      "estamos no elemento 3\n",
      "estamos no elemento 4\n",
      "estamos no elemento 5\n",
      "estamos no elemento 6\n",
      "estamos no elemento 7\n"
     ]
    }
   ],
   "source": [
    "for elemento in range (len(\"Bernardo\")):\n",
    "    print('estamos no elemento',elemento)"
   ]
  },
  {
   "cell_type": "code",
   "execution_count": 3,
   "metadata": {},
   "outputs": [
    {
     "name": "stdout",
     "output_type": "stream",
     "text": [
      "O produto é:  Almoço\n",
      "O valor é:  70.0\n",
      "O produto é:  camisa\n",
      "O valor é:  98.0\n",
      "O produto é:  karambit\n",
      "O valor é:  320.0\n",
      "O produto é:  camisa barcelona\n",
      "O valor é:  333.0\n"
     ]
    }
   ],
   "source": [
    "produto = 0 \n",
    "while produto < 4:\n",
    "\n",
    "    p = str(input('Digite o nome do produto: '))\n",
    "    v = float(input('Digite o valor do produto: '))\n",
    "\n",
    "    produto += 1\n",
    "\n",
    "\n",
    "    print('O produto é: ',p)\n",
    "    print('O valor é: ',v)\n"
   ]
  },
  {
   "cell_type": "code",
   "execution_count": 6,
   "metadata": {},
   "outputs": [
    {
     "name": "stdout",
     "output_type": "stream",
     "text": [
      "Estamos no elemento  0\n",
      "Estamos no elemento  1\n",
      "Estamos no elemento  2\n",
      "Estamos no elemento  3\n",
      "Estamos no elemento  4\n",
      "Estamos no elemento  5\n",
      "Estamos no elemento  6\n"
     ]
    }
   ],
   "source": [
    "elemento = 0\n",
    "\n",
    "while elemento <= len([1,2,3,4,5,6]):\n",
    "    print('Estamos no elemento ',elemento)\n",
    "\n",
    "    elemento +=1"
   ]
  },
  {
   "cell_type": "code",
   "execution_count": 8,
   "metadata": {},
   "outputs": [
    {
     "name": "stdout",
     "output_type": "stream",
     "text": [
      "Estamos no elemento B\n",
      "Estamos no elemento E\n",
      "Estamos no elemento R\n",
      "Estamos no elemento N\n",
      "Estamos no elemento A\n",
      "Estamos no elemento R\n",
      "Estamos no elemento D\n",
      "Estamos no elemento O\n"
     ]
    }
   ],
   "source": [
    "s = \"BERNARDO\"\n",
    "indice = 0\n",
    "\n",
    "while indice in range (len(s)):\n",
    "    print('Estamos no elemento', s[indice])\n",
    "    indice +=1"
   ]
  },
  {
   "cell_type": "code",
   "execution_count": 12,
   "metadata": {},
   "outputs": [
    {
     "name": "stdout",
     "output_type": "stream",
     "text": [
      "0 R\n",
      "1 o\n",
      "2 n\n",
      "3 a\n",
      "4 l\n",
      "5 d\n",
      "6 i\n",
      "7 n\n",
      "8 h\n",
      "9 o\n"
     ]
    }
   ],
   "source": [
    "palavra = 'Ronaldinho'\n",
    "for sport, barcelona in enumerate(palavra):\n",
    "    print(sport, barcelona )  #em sport e barcelona poderia ser indice e letra, coloquei sport e barcelona apenas para testar."
   ]
  },
  {
   "cell_type": "code",
   "execution_count": 3,
   "metadata": {},
   "outputs": [
    {
     "name": "stdout",
     "output_type": "stream",
     "text": [
      "Tipo:  <class 'enumerate'>\n",
      "[(0, 'eat'), (1, 'sleep'), (2, 'repeat')]\n"
     ]
    }
   ],
   "source": [
    "lista = ['eat','sleep','repeat']\n",
    "palavra = 'sport'\n",
    "\n",
    "\n",
    "\n",
    "objeto1 = enumerate (lista)\n",
    "objeto2 = enumerate (palavra)\n",
    "\n",
    "\n",
    "print(\"Tipo: \",type(objeto1))\n",
    "print(list(enumerate(lista)))\n",
    "\n"
   ]
  },
  {
   "cell_type": "code",
   "execution_count": 4,
   "metadata": {},
   "outputs": [
    {
     "name": "stdout",
     "output_type": "stream",
     "text": [
      "[(2, 's'), (3, 'p'), (4, 'o'), (5, 'r'), (6, 't')]\n"
     ]
    }
   ],
   "source": [
    "print (list(enumerate(palavra,2)))"
   ]
  },
  {
   "cell_type": "code",
   "execution_count": 7,
   "metadata": {},
   "outputs": [
    {
     "name": "stdout",
     "output_type": "stream",
     "text": [
      "viva a monogamia\n",
      "viva a monogamia\n",
      "viva a monogamia\n",
      "viva a monogamia\n",
      "viva a monogamia\n",
      "viva a monogamia\n",
      "viva a monogamia\n",
      "viva a monogamia\n",
      "viva a monogamia\n",
      "viva a monogamia\n",
      "viva a monogamia\n",
      "viva a monogamia\n",
      "viva a monogamia\n",
      "viva a monogamia\n",
      "viva a monogamia\n",
      "viva a monogamia\n"
     ]
    }
   ],
   "source": [
    "s = \"viva a monogamia\"\n",
    "\n",
    "for carac in s:\n",
    "    print(s)"
   ]
  },
  {
   "cell_type": "code",
   "execution_count": 8,
   "metadata": {},
   "outputs": [
    {
     "name": "stdout",
     "output_type": "stream",
     "text": [
      "viva a monogamia\n",
      "viva a monogamia\n",
      "viva a monogamia\n",
      "viva a monogamia\n",
      "viva a monogamia\n"
     ]
    }
   ],
   "source": [
    "s = \"viva a monogamia\"\n",
    "\n",
    "for carac in s [3:8]:\n",
    "    print(s)"
   ]
  },
  {
   "cell_type": "code",
   "execution_count": 12,
   "metadata": {},
   "outputs": [
    {
     "name": "stdout",
     "output_type": "stream",
     "text": [
      "Quantidade de números pares: 5\n",
      "Quantidade de números ímpares: 5\n"
     ]
    }
   ],
   "source": [
    "pares = 0\n",
    "impares = 0\n",
    "\n",
    "for numero in range(10):\n",
    "    numero = int(input(\"Digite um número inteiro: \"))\n",
    "    if numero % 2 == 0:\n",
    "        pares +=1\n",
    "    else:\n",
    "        impares +=1\n",
    "\n",
    "print(f\"Quantidade de números pares: {pares}\")\n",
    "print(f\"Quantidade de números ímpares: {impares}\")"
   ]
  }
 ],
 "metadata": {
  "kernelspec": {
   "display_name": "Python 3",
   "language": "python",
   "name": "python3"
  },
  "language_info": {
   "codemirror_mode": {
    "name": "ipython",
    "version": 3
   },
   "file_extension": ".py",
   "mimetype": "text/x-python",
   "name": "python",
   "nbconvert_exporter": "python",
   "pygments_lexer": "ipython3",
   "version": "3.11.9"
  }
 },
 "nbformat": 4,
 "nbformat_minor": 2
}
